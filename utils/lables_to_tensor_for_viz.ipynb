{
 "cells": [
  {
   "cell_type": "code",
   "execution_count": 1,
   "metadata": {},
   "outputs": [],
   "source": [
    "# theme = 'plotly_dark'\n",
    "theme = 'seaborn'\n",
    "#theme = 'plotly'"
   ]
  },
  {
   "cell_type": "code",
   "execution_count": 2,
   "metadata": {},
   "outputs": [],
   "source": [
    "import pandas as pd\n",
    "import json\n",
    "import torch\n",
    "\n",
    "\n",
    "\n",
    "import plotly.express as px\n",
    "# import plotly.graph_objects as go\n",
    "# import plotly.subplots as sp\n",
    "import os"
   ]
  },
  {
   "cell_type": "code",
   "execution_count": 7,
   "metadata": {},
   "outputs": [],
   "source": [
    "PROJECT_DIR = '/home/kuba/Documents/data/raw/listerine/3_final'  \n",
    "watch_num = '03'\n",
    "recording = '2023-07-18_07_21_53'\n",
    "\n",
    "HERTZ = 100\n",
    "ACTIVITY_NAME_TO_CLASS_INDEX_MAPPING = {\n",
    "    'water':0,\n",
    "    'listerine':1,\n",
    "}"
   ]
  },
  {
   "cell_type": "code",
   "execution_count": 8,
   "metadata": {},
   "outputs": [],
   "source": [
    "#takes in label a to tensor for ML\n",
    "def json_to_tensor(labels_x, acc_len_x, acc_x):\n",
    "    y_new = torch.zeros(acc_len_x)-1\n",
    "\n",
    "    bouts = []\n",
    "    for hand in labels_x:\n",
    "        for action in labels_x[hand]:\n",
    "            for bout in labels_x[hand][action]:\n",
    "                y_new[(acc_x.timestamp > bout['start']) & (acc_x.timestamp < bout['end'])] = (ACTIVITY_NAME_TO_CLASS_INDEX_MAPPING[action] * 20 + 15)\n",
    "    return y_new\n",
    "\n"
   ]
  },
  {
   "cell_type": "code",
   "execution_count": 9,
   "metadata": {},
   "outputs": [],
   "source": [
    "def viz_labels(df_acc, y, title):\n",
    "    y_df = pd.DataFrame(y,columns=['labels'])\n",
    "    df = pd.concat([df_acc, y_df], axis=1)\n",
    "    df = df[::5]\n",
    "    fig = px.line(df, x='timestamp', y=['x','y','z','labels'], title=title)\n",
    "    fig.update_layout(template=theme)\n",
    "    fig.show(renderer='browser')"
   ]
  },
  {
   "cell_type": "code",
   "execution_count": 10,
   "metadata": {},
   "outputs": [],
   "source": [
    "WATCH_DIR = f'{PROJECT_DIR}/{watch_num}'\n",
    "\n",
    "if recording == '*':\n",
    "    for recording in sorted(os.listdir(WATCH_DIR)):\n",
    "        print(recording)\n",
    "        if recording == '.DS_Store':\n",
    "            continue\n",
    "        recording_dir = f'{WATCH_DIR}/{recording}'\n",
    "        acc = pd.read_csv(f'{recording_dir}/acceleration.csv',skiprows=1)\n",
    "        with open(f'{recording_dir}/labels.json','r') as f:\n",
    "            labels = json.load(f)  \n",
    "        acc_len = len(acc)\n",
    "        acc['timestamp'] = ((acc['timestamp'] - acc['timestamp'].iloc[0]) * 1e-9)\n",
    "        y = json_to_tensor(labels, acc_len, acc)\n",
    "        viz_labels(acc, y, recording_dir)\n",
    "else:\n",
    "    recording_dir = f'{WATCH_DIR}/{recording}'\n",
    "    acc = pd.read_csv(f'{recording_dir}/acceleration.csv',skiprows=1)\n",
    "    with open(f'{recording_dir}/labels.json','r') as f:\n",
    "        labels = json.load(f)  \n",
    "    acc_len = len(acc)\n",
    "    acc['timestamp'] = ((acc['timestamp'] - acc['timestamp'].iloc[0]) * 1e-9)\n",
    "    y = json_to_tensor(labels, acc_len, acc)\n",
    "    viz_labels(acc, y, recording_dir)\n",
    "\n",
    "\n",
    "\n"
   ]
  }
 ],
 "metadata": {
  "kernelspec": {
   "display_name": "base",
   "language": "python",
   "name": "python3"
  },
  "language_info": {
   "codemirror_mode": {
    "name": "ipython",
    "version": 3
   },
   "file_extension": ".py",
   "mimetype": "text/x-python",
   "name": "python",
   "nbconvert_exporter": "python",
   "pygments_lexer": "ipython3",
   "version": "3.10.12"
  }
 },
 "nbformat": 4,
 "nbformat_minor": 2
}
