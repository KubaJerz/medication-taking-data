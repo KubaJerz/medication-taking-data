{
 "cells": [
  {
   "cell_type": "code",
   "execution_count": null,
   "id": "73ee7c79",
   "metadata": {},
   "outputs": [],
   "source": [
    "import torch\n",
    "from medication_data_script import load_medication_data, LeakageOption\n",
    "import random\n",
    "import os\n",
    "import pandas as pd\n",
    "import numpy as np\n",
    "import matplotlib.pyplot as plt"
   ]
  },
  {
   "cell_type": "code",
   "execution_count": null,
   "id": "2d88be82",
   "metadata": {},
   "outputs": [],
   "source": [
    "WINDOW_SIZE = 400\n",
    "STRIDE = 50\n",
    "NUM_MED_WINDOWS_TO_SAMP = 5\n",
    "data_samp_path = '/home/kuba/Documents/data/raw/kuba_watch_data/2024-07-10_06_42_46'\n",
    "\n",
    "\n",
    "data = load_medication_data(WINDOW_SIZE, STRIDE, flatten=False, leakage_option=LeakageOption.FULL_LEAKAGE)"
   ]
  },
  {
   "cell_type": "code",
   "execution_count": null,
   "id": "1c9400dd",
   "metadata": {},
   "outputs": [],
   "source": [
    "test = data['test']"
   ]
  },
  {
   "cell_type": "code",
   "execution_count": null,
   "id": "a9709307",
   "metadata": {},
   "outputs": [],
   "source": [
    "def get_random_med_windows_from_test(windows):\n",
    "    window_picks = []\n",
    "    idxs_used = []\n",
    "\n",
    "    for _ in range(NUM_MED_WINDOWS_TO_SAMP):\n",
    "        pick = random.randint(0, len(test) - 1)\n",
    "        while pick in idxs_used:\n",
    "            pick = random.randint(0, len(test) - 1)\n",
    "        \n",
    "        window_picks.append(windows[pick][0]) #add window\n",
    "        idxs_used.append(pick) #add so we dont reuse same windows\n",
    "\n",
    "    return window_picks\n",
    "    "
   ]
  },
  {
   "cell_type": "code",
   "execution_count": null,
   "id": "00d05d21",
   "metadata": {},
   "outputs": [],
   "source": [
    "sampled_windows = get_random_med_windows_from_test(test)"
   ]
  },
  {
   "cell_type": "code",
   "execution_count": null,
   "id": "ff87fd67",
   "metadata": {},
   "outputs": [],
   "source": [
    "len(sampled_windows)"
   ]
  },
  {
   "cell_type": "code",
   "execution_count": null,
   "id": "76789034",
   "metadata": {},
   "outputs": [],
   "source": [
    "#accl\n",
    "accl_path = os.path.join(data_samp_path, \"acceleration.csv\")\n",
    "#gyro\n",
    "gyro_path = os.path.join(data_samp_path, \"gyroscope.csv\")\n",
    "\n",
    "acc_with_timestamp = pd.read_csv(accl_path, skiprows=1)\n",
    "acc_with_timestamp['timestamp']  = (acc_with_timestamp['timestamp'] - acc_with_timestamp['timestamp'].iloc[0]) * 1e-9 #subtract the start to get first time to be zero then convert from nano to sec\n",
    "#first_row_acc = get_first_line(os.path.join(full_path, 'acceleration.csv'))\n",
    "\n",
    "gyro_with_timestamp = pd.read_csv(gyro_path, skiprows=1)\n",
    "gyro_with_timestamp['timestamp']  = (gyro_with_timestamp['timestamp'] - gyro_with_timestamp['timestamp'].iloc[0]) * 1e-9 #subtract the start to get first time to be zero then convert from nano to sec\n",
    "#first_row_gyro_with_timestamp = get_first_line(os.path.join(full_path, 'gyroscope.csv'))"
   ]
  },
  {
   "cell_type": "code",
   "execution_count": null,
   "id": "baae808f",
   "metadata": {},
   "outputs": [],
   "source": [
    "acc_with_timestamp.iloc[:, 1:].to_numpy()"
   ]
  },
  {
   "cell_type": "code",
   "execution_count": null,
   "id": "96705b98",
   "metadata": {},
   "outputs": [],
   "source": [
    "#now we will ad the sameed winodws to the data \n",
    "def paste_in_windows(windows, acc, gyro):\n",
    "\n",
    "    def is_vaild(i, idxs, full_length):\n",
    "        if i < 0:\n",
    "            return False\n",
    "        elif (i + WINDOW_SIZE) > full_length:\n",
    "            return False\n",
    "        else:\n",
    "            for pair in idxs:\n",
    "                j, j_plus_w = pair #pais of windows we have already pasted\n",
    "                if ((i + WINDOW_SIZE) >= j) and ((i + WINDOW_SIZE) <=  j_plus_w):\n",
    "                    return False\n",
    "                elif ((i) >= j) and ((i) <=  j_plus_w):\n",
    "                    return False\n",
    "            return True\n",
    "\n",
    "    acc_augmented = acc\n",
    "    gyro_augmented = gyro\n",
    "    idxs = [] #list of tuples (i, i+window size) where each winodw is placed\n",
    "    for window in windows:\n",
    "        window_acc = window[:3,:]\n",
    "        window_gyro = window[3:,:]\n",
    "        print(f\"Window shapes - Acc: {window_acc.T.shape}, Gyro: {window_gyro.shape}\")\n",
    "\n",
    "        valid_placment = False\n",
    "        while not valid_placment:\n",
    "            i = random.randint(0, len(acc) -1)\n",
    "            valid_placment = is_vaild(i, idxs, len(acc))\n",
    "\n",
    "            if valid_placment:\n",
    "                acc_augmented[i:i+WINDOW_SIZE] = window_acc.T\n",
    "                gyro_augmented[i:i+WINDOW_SIZE] = window_gyro.T\n",
    "                idxs.append((i, i+WINDOW_SIZE)) \n",
    "    \n",
    "    return acc_augmented, gyro_augmented, idxs            "
   ]
  },
  {
   "cell_type": "code",
   "execution_count": null,
   "id": "91b4c2c7",
   "metadata": {},
   "outputs": [],
   "source": [
    "acc = acc_with_timestamp.iloc[:, 1:4].to_numpy()\n",
    "gyro = gyro_with_timestamp.iloc[:, 1:4].to_numpy() # If we dont do this its 9points x 4) where the first index si the time stamp so we want to remove that"
   ]
  },
  {
   "cell_type": "code",
   "execution_count": null,
   "id": "015a8e06",
   "metadata": {},
   "outputs": [],
   "source": [
    "acc = acc[:200000]\n",
    "gyro = gyro[:200000]\n"
   ]
  },
  {
   "cell_type": "code",
   "execution_count": null,
   "id": "cf14ed65",
   "metadata": {},
   "outputs": [],
   "source": [
    "acc[0:9].T.shape"
   ]
  },
  {
   "cell_type": "code",
   "execution_count": null,
   "id": "72c30111",
   "metadata": {},
   "outputs": [],
   "source": [
    "acc_augmented, gyro_augmented, idxs = paste_in_windows(sampled_windows, acc, gyro)"
   ]
  },
  {
   "cell_type": "markdown",
   "id": "71193f2b",
   "metadata": {},
   "source": [
    "____\n",
    "lets make the windows from the augmented data"
   ]
  },
  {
   "cell_type": "code",
   "execution_count": null,
   "id": "bc3552c8",
   "metadata": {},
   "outputs": [],
   "source": [
    "def window_maker(data, window_size, stride, flatten):\n",
    "    \"\"\"Create windows from time series data.\"\"\"\n",
    "    windows = []\n",
    "    \n",
    "    if flatten:\n",
    "        # Flatten x, y, z channels into a single vector per window\n",
    "        for i in range(0, len(data[:,0]) - window_size + 1, stride):\n",
    "            window = []\n",
    "            window.extend(data[:,0][i:i + window_size].tolist())\n",
    "            window.extend(data[:,1][i:i + window_size].tolist())\n",
    "            window.extend(data[:,2][i:i + window_size].tolist())\n",
    "            windows.append(window)\n",
    "    else:\n",
    "        # Keep x, y, z as separate channels\n",
    "        for i in range(0, len(data[:,0]) - window_size + 1, stride):\n",
    "            window = [\n",
    "                data[:,0][i:i + window_size].tolist(),\n",
    "                data[:,1][i:i + window_size].tolist(),\n",
    "                data[:,2][i:i + window_size].tolist()\n",
    "            ]\n",
    "            windows.append(window)\n",
    "            \n",
    "    return windows\n",
    "\n",
    "\n",
    "def process_recording(acc_data, gyro_data, window_size, stride, flatten):\n",
    "    \"\"\"Extract activity windows and labels from a recording.\"\"\"\n",
    "\n",
    "    if len(acc) >= window_size:\n",
    "        acc_windows_batch = window_maker(acc_data, window_size, stride, flatten)\n",
    "        gyro_windows_batch = window_maker(gyro_data, window_size, stride, flatten)\n",
    "\n",
    "        # Handle potential mismatch in window counts\n",
    "        min_windows = min(len(acc_windows_batch), len(gyro_windows_batch))\n",
    "        acc_windows_batch = acc_windows_batch[:min_windows]\n",
    "        gyro_windows_batch = gyro_windows_batch[:min_windows]\n",
    "    \n",
    "    return torch.tensor(acc_windows_batch), torch.tensor(gyro_windows_batch)"
   ]
  },
  {
   "cell_type": "code",
   "execution_count": null,
   "id": "1b392cf3",
   "metadata": {},
   "outputs": [],
   "source": [
    "len(acc_augmented[:,0])"
   ]
  },
  {
   "cell_type": "code",
   "execution_count": null,
   "id": "6b65f1d6",
   "metadata": {},
   "outputs": [],
   "source": [
    "acc_windows, gyro_windows = process_recording(acc_augmented, gyro_augmented, window_size=WINDOW_SIZE, stride=STRIDE, flatten=False)\n",
    "acc_windows.shape, gyro_windows.shape"
   ]
  },
  {
   "cell_type": "code",
   "execution_count": null,
   "id": "ee21ab3e",
   "metadata": {},
   "outputs": [],
   "source": [
    "all_windows = torch.cat((acc_windows, gyro_windows), dim=1)\n",
    "all_windows.shape"
   ]
  },
  {
   "cell_type": "markdown",
   "id": "b84a8748",
   "metadata": {},
   "source": [
    "---- \n",
    "\n",
    "now lets define the model"
   ]
  },
  {
   "cell_type": "code",
   "execution_count": null,
   "id": "5587b40d",
   "metadata": {},
   "outputs": [],
   "source": [
    "import torch\n",
    "import torch.nn as nn\n",
    "import torch.nn.functional as F\n",
    "\n",
    "class simple_cnn(nn.Module):\n",
    "    def __init__(self, dropout=0.0):\n",
    "        super().__init__()\n",
    "        self.c0  = nn.Conv1d(6, 64, kernel_size=3, stride=2)\n",
    "\n",
    "        self.c1  = nn.Conv1d(64, 128, kernel_size=3, stride=2)\n",
    "        self.c2  = nn.Conv1d(128, 128, kernel_size=3)\n",
    "\n",
    "        self.c3  = nn.Conv1d(128, 256, kernel_size=3, stride=2)\n",
    "        self.c4  = nn.Conv1d(256, 256, kernel_size=3)\n",
    "        self.c5  = nn.Conv1d(256, 256, kernel_size=3)\n",
    "\n",
    "        self.gap = nn.AdaptiveAvgPool1d(1)\n",
    "        self.l0 = nn.Linear(256,256)\n",
    "        self.dropout = nn.Dropout(p=dropout)\n",
    "        self.out = nn.Linear(256,1)\n",
    "            \n",
    "        \n",
    "    def forward(self, x):\n",
    "        x = F.relu(self.c0(x), inplace=True)\n",
    "        \n",
    "        x = F.relu(self.c1(x), inplace=True)\n",
    "        x = F.relu(self.c2(x), inplace=True)\n",
    "        \n",
    "        x = F.relu(self.c3(x), inplace=True)\n",
    "        x = F.relu(self.c4(x), inplace=True)\n",
    "        x = F.relu(self.c5(x), inplace=True)\n",
    "        \n",
    "        x = self.gap(x).squeeze(-1)\n",
    "        x = F.relu(self.l0(x), inplace=True)\n",
    "        x = self.dropout(x)\n",
    "        x = self.out(x)\n",
    "        \n",
    "        return x\n"
   ]
  },
  {
   "cell_type": "code",
   "execution_count": null,
   "id": "084d2579",
   "metadata": {},
   "outputs": [],
   "source": [
    "model = simple_cnn()\n",
    "model.load_state_dict(torch.load('/home/kuba/projects/medication-taking-data/new_start/week00/93f1_fullleak.pth', weights_only=True))"
   ]
  },
  {
   "cell_type": "code",
   "execution_count": null,
   "id": "cc43b92e",
   "metadata": {},
   "outputs": [],
   "source": [
    "device = 'cuda:0'\n",
    "model = model.to(device)\n",
    "all_windows = all_windows.to(device)\n",
    "with torch.no_grad():\n",
    "    model.eval()\n",
    "    logits = model(all_windows)"
   ]
  },
  {
   "cell_type": "markdown",
   "id": "2bc8ce0e",
   "metadata": {},
   "source": [
    "____\n",
    "\n",
    "process the results"
   ]
  },
  {
   "cell_type": "code",
   "execution_count": null,
   "id": "459e1691",
   "metadata": {},
   "outputs": [],
   "source": [
    "preds = F.sigmoid(logits.cpu())\n",
    "preds"
   ]
  },
  {
   "cell_type": "code",
   "execution_count": null,
   "id": "32c5c891",
   "metadata": {},
   "outputs": [],
   "source": [
    "preds_list = preds.tolist()\n",
    "preds_list = [val[0] for val in preds_list]\n",
    "preds_list.reverse()"
   ]
  },
  {
   "cell_type": "code",
   "execution_count": null,
   "id": "bbfee67a",
   "metadata": {},
   "outputs": [],
   "source": [
    "counts = np.zeros((len(acc)))\n",
    "sums = np.zeros((len(acc)))\n",
    "\n",
    "len_to_use = min(len(acc) - WINDOW_SIZE, len(gyro) - WINDOW_SIZE) #Handle potential mismatch in window count\n",
    "for i in range(0, len_to_use, STRIDE):\n",
    "    val = preds_list.pop()\n",
    "    sums[i : i+WINDOW_SIZE] += val\n",
    "    counts[i : i+WINDOW_SIZE] += 1\n"
   ]
  },
  {
   "cell_type": "code",
   "execution_count": null,
   "id": "1ae5d395",
   "metadata": {},
   "outputs": [],
   "source": [
    "def smooth_predictions(prediction_sum, counts):\n",
    "    \"\"\"\n",
    "    Smooth predictions by averaging, handling divisions by zero.\n",
    "    \"\"\"\n",
    "\n",
    "    averaged_predictions = prediction_sum / (counts + 0.00001)\n",
    "    return averaged_predictions\n"
   ]
  },
  {
   "cell_type": "code",
   "execution_count": null,
   "id": "323dfe65",
   "metadata": {},
   "outputs": [],
   "source": [
    "avg_preds = smooth_predictions(sums, counts)\n"
   ]
  },
  {
   "cell_type": "code",
   "execution_count": null,
   "id": "03992b38",
   "metadata": {},
   "outputs": [],
   "source": [
    "\n",
    "plt.figure(figsize=(12, 6))\n",
    "\n",
    "# Plot the accelerometer data\n",
    "plt.plot(acc_augmented[:,0], label='x')\n",
    "plt.plot(acc_augmented[:,1], label='y')\n",
    "plt.plot(acc_augmented[:,2], label='z')\n",
    "plt.plot((avg_preds * 60), label='predictions')\n",
    "\n",
    "# Add shaded areas for each window that was pasted\n",
    "for idx_pair in idxs:\n",
    "    start_idx, end_idx = idx_pair\n",
    "    plt.axvspan(start_idx, end_idx, color='lightgray', alpha=0.3)\n",
    "    # Optionally add text labels for each window\n",
    "    plt.text(start_idx, plt.ylim()[1]*0.9, f\"Window\", \n",
    "             fontsize=8, rotation=90, backgroundcolor='white', alpha=0.7)\n",
    "\n",
    "plt.grid()\n",
    "plt.legend()\n",
    "plt.title('Accelerometer Data with Pasted Windows')\n",
    "plt.xlabel('Time Points')\n",
    "plt.ylabel('Acceleration')\n",
    "plt.show()"
   ]
  },
  {
   "cell_type": "code",
   "execution_count": null,
   "id": "611969b0",
   "metadata": {},
   "outputs": [],
   "source": [
    "import plotly.graph_objects as go\n",
    "import numpy as np\n",
    "\n",
    "# Create figure\n",
    "fig = go.Figure()\n",
    "\n",
    "# Define data range\n",
    "start_idx = 300000\n",
    "end_idx = 450000\n",
    "x_range = list(range(end_idx - start_idx))\n",
    "\n",
    "# Add traces\n",
    "fig.add_trace(go.Scatter(x=x_range, y=acc_augmented[start_idx:end_idx, 0], mode='lines', name='x'))\n",
    "fig.add_trace(go.Scatter(x=x_range, y=acc_augmented[start_idx:end_idx, 1], mode='lines', name='y'))\n",
    "fig.add_trace(go.Scatter(x=x_range, y=acc_augmented[start_idx:end_idx, 2], mode='lines', name='z'))\n",
    "fig.add_trace(go.Scatter(x=x_range, y=(avg_preds[start_idx:end_idx] * 40), mode='lines', name='avg_preds*40'))\n",
    "\n",
    "# Add shaded areas for each window that was pasted\n",
    "for idx_pair in idxs:\n",
    "    start_window, end_window = idx_pair\n",
    "    \n",
    "    # Only show windows that fall within our visible range\n",
    "    if end_window >= start_idx and start_window <= end_idx:\n",
    "        # Adjust indices to match the visible range\n",
    "        visible_start = max(0, start_window - start_idx)\n",
    "        visible_end = min(end_idx - start_idx, end_window - start_idx)\n",
    "        \n",
    "        # Calculate y-range for the shape\n",
    "        y_min = min(\n",
    "            np.min(acc_augmented[start_idx:end_idx, 0]),\n",
    "            np.min(acc_augmented[start_idx:end_idx, 1]),\n",
    "            np.min(acc_augmented[start_idx:end_idx, 2])\n",
    "        ) - 0.5\n",
    "        \n",
    "        y_max = max(\n",
    "            np.max(acc_augmented[start_idx:end_idx, 0]),\n",
    "            np.max(acc_augmented[start_idx:end_idx, 1]),\n",
    "            np.max(acc_augmented[start_idx:end_idx, 2])\n",
    "        ) + 0.5\n",
    "        \n",
    "        # Add shaded rectangle\n",
    "        fig.add_shape(\n",
    "            type=\"rect\",\n",
    "            x0=visible_start,\n",
    "            x1=visible_end,\n",
    "            y0=y_min,\n",
    "            y1=y_max,\n",
    "            fillcolor=\"lightgray\",\n",
    "            opacity=0.3,\n",
    "            layer=\"below\",\n",
    "            line_width=0,\n",
    "        )\n",
    "        \n",
    "        # Add annotation for each window\n",
    "        fig.add_annotation(\n",
    "            x=visible_start + (visible_end - visible_start)/2,\n",
    "            y=y_max,\n",
    "            text=\"Window\",\n",
    "            showarrow=False,\n",
    "            bgcolor=\"white\",\n",
    "            opacity=0.7\n",
    "        )\n",
    "\n",
    "# Update layout\n",
    "fig.update_layout(\n",
    "    title='Accelerometer Data with Pasted Windows',\n",
    "    xaxis_title='Index',\n",
    "    yaxis_title='Value',\n",
    "    height=600,\n",
    "    width=900\n",
    ")\n",
    "\n",
    "# Add grid\n",
    "fig.update_xaxes(showgrid=True, gridwidth=1, gridcolor='LightGrey')\n",
    "fig.update_yaxes(showgrid=True, gridwidth=1, gridcolor='LightGrey')\n",
    "\n",
    "# Display the figure\n",
    "fig.show()"
   ]
  }
 ],
 "metadata": {
  "kernelspec": {
   "display_name": "base",
   "language": "python",
   "name": "python3"
  },
  "language_info": {
   "codemirror_mode": {
    "name": "ipython",
    "version": 3
   },
   "file_extension": ".py",
   "mimetype": "text/x-python",
   "name": "python",
   "nbconvert_exporter": "python",
   "pygments_lexer": "ipython3",
   "version": "3.10.12"
  }
 },
 "nbformat": 4,
 "nbformat_minor": 5
}
