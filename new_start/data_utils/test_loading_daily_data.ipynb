{
 "cells": [
  {
   "cell_type": "code",
   "execution_count": 59,
   "metadata": {},
   "outputs": [],
   "source": [
    "import torch\n",
    "import os \n",
    "import pandas as pd\n",
    "import sys"
   ]
  },
  {
   "cell_type": "code",
   "execution_count": null,
   "metadata": {},
   "outputs": [],
   "source": [
    "DAILY_DIR_PATH = \"/home/kuba/Documents/data/raw/kuba_watch_data\"\n",
    "\n",
    "WINDOW_SIZE = 400\n",
    "STRIDE = WINDOW_SIZE\n",
    "FLATTEN = True #  If False, each window is a ``` 3 x window_size ``` array with separate arrays for x, y, and z.\n",
    "EXCLUDE_NO_MOVMENT_WINDOWS = True\n",
    "\n",
    "MEDICINE_LABEL = 1 #we dont acctualy use in this notbook but will in the true dataloader\n",
    "DAILY_LABEL = 0 "
   ]
  },
  {
   "cell_type": "code",
   "execution_count": 61,
   "metadata": {},
   "outputs": [],
   "source": [
    "def get_first_line(path):\n",
    "    \"\"\"This first line is the file time samp as such File Start Time: 1720608166722\"\"\"\n",
    "    f = open(path)\n",
    "    first_line = int(f.readline().strip().split(':')[1])\n",
    "    return first_line"
   ]
  },
  {
   "cell_type": "code",
   "execution_count": 63,
   "metadata": {},
   "outputs": [],
   "source": [
    "def window_maker(data):\n",
    "    #flatten (bool): If True it combines x,y,z data into single list\n",
    "    res = []\n",
    "    if FLATTEN:\n",
    "        # make windows\n",
    "        for i in range(0, len(data['x'].tolist()) - WINDOW_SIZE + 1, STRIDE):\n",
    "            combined = []\n",
    "            combined.extend(data['x'][i:i + WINDOW_SIZE].tolist())\n",
    "            combined.extend(data['y'][i:i + WINDOW_SIZE].tolist())\n",
    "            combined.extend(data['z'][i:i + WINDOW_SIZE].tolist())\n",
    "            res.append(combined)\n",
    "    else:\n",
    "        for i in range(0, len(data['x'].tolist()) - WINDOW_SIZE + 1, STRIDE):\n",
    "            combined = []\n",
    "            combined.append(data['x'][i:i + WINDOW_SIZE].tolist())\n",
    "            combined.append(data['y'][i:i + WINDOW_SIZE].tolist())\n",
    "            combined.append(data['z'][i:i + WINDOW_SIZE].tolist())\n",
    "            res.append(combined)\n",
    "    return res"
   ]
  },
  {
   "cell_type": "code",
   "execution_count": 64,
   "metadata": {},
   "outputs": [],
   "source": [
    "def calculate_magnitude(acc, gyro):\n",
    "    # For each window, calculate the magnitude across all axes\n",
    "    if not FLATTEN:\n",
    "        #we assume shape (num_windows x 3 x WINDOWSIZE)\n",
    "        acc_magnitudes = torch.sqrt(acc[:,0]**2 + acc[:,1]**2 + acc[:,2]**2)\n",
    "        gyro_magnitudes = torch.sqrt(gyro[:,0]**2 + gyro[:,1]**2 + gyro[:,2]**2)\n",
    "    else:\n",
    "        #we assume shape (num_windows x (WINDOWSIZE * 3))\n",
    "        acc_magnitudes = torch.sqrt(acc**2)\n",
    "        gyro_magnitudes = torch.sqrt(gyro**2)\n",
    "    return acc_magnitudes, gyro_magnitudes"
   ]
  },
  {
   "cell_type": "code",
   "execution_count": 65,
   "metadata": {},
   "outputs": [],
   "source": [
    "def is_movement_window(acc, gyro, acc_threshold=0.05, gyro_threshold=0.02):\n",
    "    acc_mag, gyro_mag = calculate_magnitude(acc, gyro)\n",
    "\n",
    "    # low std dev means little variation\n",
    "    acc_std = torch.std(acc_mag, dim=1)\n",
    "    gyro_std = torch.std(gyro_mag,dim=1)\n",
    "    acc_movements_idx = (acc_std > acc_threshold) \n",
    "    gyro_movements_idx = (gyro_std > gyro_threshold)\n",
    "    valid_indices = torch.logical_or(acc_movements_idx, gyro_movements_idx)    \n",
    "\n",
    "    return valid_indices"
   ]
  },
  {
   "cell_type": "code",
   "execution_count": 66,
   "metadata": {},
   "outputs": [],
   "source": [
    "def remove_no_movment_windows(acc, gyro, min_acc_std=0.05, min_gyro_std=0.02):\n",
    "    valid_indices = is_movement_window(acc, gyro, acc_threshold=min_acc_std, gyro_threshold=min_gyro_std)\n",
    "\n",
    "    #we mask using the vaild idx only\n",
    "    filtered_acc = acc[valid_indices]\n",
    "    filtered_gyro = gyro[valid_indices]\n",
    "    \n",
    "    if filtered_acc.shape != filtered_gyro.shape:\n",
    "        sys.stderr.write(\"Error in removing the no movment winodws, gyro and acc not longet have same shape\")\n",
    "\n",
    "    return filtered_acc, filtered_gyro"
   ]
  },
  {
   "cell_type": "code",
   "execution_count": 67,
   "metadata": {},
   "outputs": [],
   "source": [
    "def sample_all_possible_windows_from_file(file_name):\n",
    "    accl_path = os.path.join(DAILY_DIR_PATH, file_name, \"acceleration.csv\")\n",
    "    gyro_path = os.path.join(DAILY_DIR_PATH, file_name, \"gyroscope.csv\")\n",
    "\n",
    "    acc = pd.read_csv(accl_path, skiprows=1)\n",
    "    acc['timestamp']  = (acc['timestamp'] - acc['timestamp'].iloc[0]) * 1e-9 #subtract the start to get first time to be zero then convert from nano to sec\n",
    "\n",
    "    gyro = pd.read_csv(gyro_path, skiprows=1)\n",
    "    gyro['timestamp']  = (gyro['timestamp'] - gyro['timestamp'].iloc[0]) * 1e-9 #subtract the start to get first time to be zero then convert from nano to sec\n",
    "\n",
    "    acc_windows = window_maker(acc) #returns all possible windows from the data giving the defined constatas at the top of the file\n",
    "    gyro_windows = window_maker(gyro) #returns all possible windows from the data giving the defined constatas at the top of the file\n",
    "    acc_windows_tensor = torch.tensor(acc_windows) \n",
    "    gyro_windows_tensor = torch.tensor(gyro_windows)\n",
    "\n",
    "    if EXCLUDE_NO_MOVMENT_WINDOWS:\n",
    "        acc_windows_tensor, gyro_windows_tensor = remove_no_movment_windows(acc_windows_tensor, gyro_windows_tensor)\n",
    "\n",
    "    \"\"\"If FLATTEN == False the return shape of both will be (number of windows) x 6 x (WINDOW_SIZE)\"\"\"\n",
    "    if not FLATTEN:\n",
    "        return torch.concat((acc_windows_tensor, gyro_windows_tensor), dim=1)\n",
    "    \"\"\"If FLATTEN == True the return shape of both will be (number of windows) x 2 x (3 * WINDOW_SIZE)\"\"\"\n",
    "    if FLATTEN:\n",
    "        return torch.stack((acc_windows_tensor, gyro_windows_tensor), dim=1)"
   ]
  },
  {
   "cell_type": "code",
   "execution_count": 68,
   "metadata": {},
   "outputs": [],
   "source": [
    "available_files = [dir_name for dir_name in sorted(os.listdir(DAILY_DIR_PATH))]"
   ]
  },
  {
   "cell_type": "code",
   "execution_count": 69,
   "metadata": {},
   "outputs": [
    {
     "data": {
      "text/plain": [
       "['2024-07-10_06_42_46',\n",
       " '2024-07-12_06_44_51',\n",
       " '2024-07-15_06_54_24',\n",
       " '2024-07-20_08_05_50',\n",
       " '2024-07-25_08_15_51',\n",
       " '2024-07-27_09_42_08',\n",
       " '2024-08-01_13_00_51',\n",
       " '2024-08-02_13_34_07',\n",
       " '2024-08-16_11_10_13']"
      ]
     },
     "execution_count": 69,
     "metadata": {},
     "output_type": "execute_result"
    }
   ],
   "source": [
    "available_files"
   ]
  },
  {
   "cell_type": "code",
   "execution_count": 70,
   "metadata": {},
   "outputs": [],
   "source": [
    "def get_num_windows(num_windows_needed, availabe_files):\n",
    "    collected = []\n",
    "    windows_still_needed = num_windows_needed\n",
    "    if len(available_files) == 0:\n",
    "        sys.stderr.write(\"No more files to get daily living windows from\")\n",
    "\n",
    "    while len(collected) < num_windows_needed:\n",
    "        if len(available_files) == 0:\n",
    "            sys.stderr.write(\"No more files to get daily living windows from\")\n",
    "        \n",
    "        file_name = availabe_files.pop(0) #so that we never sample again from it so prevent data leakadge \n",
    "        all_windows = sample_all_possible_windows_from_file(file_name)\n",
    "\n",
    "        if len(all_windows) >= windows_still_needed:\n",
    "            collected.append(all_windows[:num_windows_needed])\n",
    "            return torch.cat(collected, dim=0), availabe_files\n",
    "        else:\n",
    "            collected.append(all_windows)\n",
    "            windows_still_needed -= len(all_windows)\n",
    "\n",
    "    return torch.cat(collected, dim=0), availabe_files"
   ]
  },
  {
   "cell_type": "code",
   "execution_count": 72,
   "metadata": {},
   "outputs": [],
   "source": [
    "train_windows, available_files = get_num_windows(17000, available_files)"
   ]
  },
  {
   "cell_type": "markdown",
   "metadata": {},
   "source": [
    "____"
   ]
  },
  {
   "cell_type": "code",
   "execution_count": null,
   "metadata": {},
   "outputs": [],
   "source": [
    "#accl\n",
    "accl_path = os.path.join(\"/home/kuba/Documents/data/raw/kuba_watch_data/2024-07-10_06_42_46\", \"acceleration.csv\")\n",
    "#gyro\n",
    "gyro_path = os.path.join(\"/home/kuba/Documents/data/raw/kuba_watch_data/2024-07-10_06_42_46\", \"gyroscope.csv\")\n",
    "\n",
    "acc = pd.read_csv(accl_path, skiprows=1)\n",
    "acc['timestamp']  = (acc['timestamp'] - acc['timestamp'].iloc[0]) * 1e-9 #subtract the start to get first time to be zero then convert from nano to sec\n",
    "#first_row_acc = get_first_line(os.path.join(full_path, 'acceleration.csv'))\n",
    "\n",
    "gyro = pd.read_csv(gyro_path, skiprows=1)\n",
    "gyro['timestamp']  = (gyro['timestamp'] - gyro['timestamp'].iloc[0]) * 1e-9 #subtract the start to get first time to be zero then convert from nano to sec\n",
    "#first_row_gyro = get_first_line(os.path.join(full_path, 'gyroscope.csv'))\n",
    "# print(labels)"
   ]
  },
  {
   "cell_type": "code",
   "execution_count": null,
   "metadata": {},
   "outputs": [],
   "source": [
    "# import plotly.express as px\n",
    "\n",
    "# px.line(x=gyro['timestamp'][::5], y=gyro['x'][::5])"
   ]
  }
 ],
 "metadata": {
  "kernelspec": {
   "display_name": "base",
   "language": "python",
   "name": "python3"
  },
  "language_info": {
   "codemirror_mode": {
    "name": "ipython",
    "version": 3
   },
   "file_extension": ".py",
   "mimetype": "text/x-python",
   "name": "python",
   "nbconvert_exporter": "python",
   "pygments_lexer": "ipython3",
   "version": "3.10.12"
  }
 },
 "nbformat": 4,
 "nbformat_minor": 2
}
