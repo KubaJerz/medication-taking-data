{
 "cells": [
  {
   "cell_type": "code",
   "execution_count": 1,
   "id": "edb55856",
   "metadata": {},
   "outputs": [],
   "source": [
    "from medication_bout_script import get_bouts"
   ]
  },
  {
   "cell_type": "code",
   "execution_count": 2,
   "id": "ee4c3055",
   "metadata": {},
   "outputs": [
    {
     "name": "stdout",
     "output_type": "stream",
     "text": [
      "WARNING we will sample bouts from all participants there will be data leakage, unless you specify who not to sample from\n"
     ]
    }
   ],
   "source": [
    "path_to_all_participants_dir = '/home/kuba/Documents/data/raw/listerine/3_final'\n",
    "bouts, _ = get_bouts(path_to_all_participants_dir=path_to_all_participants_dir, min_bout_len=400, shuffle=True)"
   ]
  },
  {
   "cell_type": "markdown",
   "id": "2ac05888",
   "metadata": {},
   "source": [
    "They come out in the list of lists but are of the following structure:\n",
    "\n",
    "**num_bouts × 6 × len_of_each_bout**\n",
    "\n",
    "- *num_bouts*: is just how many were found\n",
    "- *6*: is the x,y,z of acc and gyro\n",
    "- *len_of_each_bout*: different from bout to bout and is the length according to the json labels"
   ]
  },
  {
   "cell_type": "code",
   "execution_count": 3,
   "id": "76df2b79",
   "metadata": {},
   "outputs": [
    {
     "name": "stdout",
     "output_type": "stream",
     "text": [
      "Len of bout #89 is 524\n",
      "We have a total of 1724 bouts\n"
     ]
    }
   ],
   "source": [
    "bout_num = 89\n",
    "print(f\"Len of bout #{bout_num} is {len(bouts[bout_num][0])}\")\n",
    "print(f\"We have a total of {len(bouts)} bouts\")"
   ]
  },
  {
   "cell_type": "code",
   "execution_count": 4,
   "id": "e106f9cd",
   "metadata": {},
   "outputs": [],
   "source": [
    "bout = bouts[0]"
   ]
  },
  {
   "cell_type": "code",
   "execution_count": 5,
   "id": "30861496",
   "metadata": {},
   "outputs": [
    {
     "data": {
      "text/plain": [
       "3"
      ]
     },
     "execution_count": 5,
     "metadata": {},
     "output_type": "execute_result"
    }
   ],
   "source": [
    "len(bout[:3])"
   ]
  }
 ],
 "metadata": {
  "kernelspec": {
   "display_name": "base",
   "language": "python",
   "name": "python3"
  },
  "language_info": {
   "codemirror_mode": {
    "name": "ipython",
    "version": 3
   },
   "file_extension": ".py",
   "mimetype": "text/x-python",
   "name": "python",
   "nbconvert_exporter": "python",
   "pygments_lexer": "ipython3",
   "version": "3.10.12"
  }
 },
 "nbformat": 4,
 "nbformat_minor": 5
}
